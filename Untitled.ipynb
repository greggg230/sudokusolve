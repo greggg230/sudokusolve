{
 "cells": [
  {
   "cell_type": "code",
   "execution_count": 1,
   "metadata": {},
   "outputs": [],
   "source": [
    "import main"
   ]
  },
  {
   "cell_type": "code",
   "execution_count": 2,
   "metadata": {},
   "outputs": [],
   "source": [
    "state = main.SolveState()\n",
    "solver = main.EliminationBackTrackSolver(main.SudokuGrid(main.hardest_puzzle, state), state)"
   ]
  },
  {
   "cell_type": "code",
   "execution_count": null,
   "metadata": {},
   "outputs": [
    {
     "name": "stdout",
     "output_type": "stream",
     "text": [
      "-------------\n",
      "|8__|___|___\n",
      "|__3|6__|___\n",
      "|_7_|_9_|2__\n",
      "-------------\n",
      "|_5_|__7|___\n",
      "|___|_45|7__\n",
      "|___|1__|_3_\n",
      "-------------\n",
      "|__1|___|_68\n",
      "|__8|5__|_1_\n",
      "|_9_|___|4__\n"
     ]
    }
   ],
   "source": [
    "solver.grid.display()"
   ]
  },
  {
   "cell_type": "code",
   "execution_count": null,
   "metadata": {},
   "outputs": [
    {
     "name": "stdout",
     "output_type": "stream",
     "text": [
      "Using depth: 1\n",
      "Using depth: 2\n",
      "Removing {2} from <Cell: (1, 5) [{4, 6, 8}]>\n",
      "Using depth: 1\n",
      "Using depth: 2\n",
      "Removing {4} from <Cell: (1, 5) [{6, 8}]>\n",
      "Using depth: 1\n",
      "Using depth: 2\n",
      "Removing {2} from <Cell: (5, 6) [{3, 4, 9}]>\n",
      "Using depth: 1\n",
      "Using depth: 2\n"
     ]
    }
   ],
   "source": [
    "solver.solve(verbose=True)"
   ]
  },
  {
   "cell_type": "code",
   "execution_count": null,
   "metadata": {},
   "outputs": [],
   "source": [
    "solver.grid.display()"
   ]
  },
  {
   "cell_type": "code",
   "execution_count": null,
   "metadata": {},
   "outputs": [],
   "source": [
    "sum([{2, 3}, {4, 5}])"
   ]
  },
  {
   "cell_type": "code",
   "execution_count": null,
   "metadata": {},
   "outputs": [],
   "source": [
    "{2} + {4, 5}"
   ]
  },
  {
   "cell_type": "code",
   "execution_count": null,
   "metadata": {},
   "outputs": [],
   "source": [
    "{2}.union({3, 4})"
   ]
  },
  {
   "cell_type": "code",
   "execution_count": null,
   "metadata": {},
   "outputs": [],
   "source": [
    "f = {1, 2}"
   ]
  },
  {
   "cell_type": "code",
   "execution_count": null,
   "metadata": {},
   "outputs": [],
   "source": [
    "g = f.intersection({3, 4})"
   ]
  },
  {
   "cell_type": "code",
   "execution_count": null,
   "metadata": {},
   "outputs": [],
   "source": [
    "g."
   ]
  }
 ],
 "metadata": {
  "kernelspec": {
   "display_name": "Python 3",
   "language": "python",
   "name": "python3"
  },
  "language_info": {
   "codemirror_mode": {
    "name": "ipython",
    "version": 3
   },
   "file_extension": ".py",
   "mimetype": "text/x-python",
   "name": "python",
   "nbconvert_exporter": "python",
   "pygments_lexer": "ipython3",
   "version": "3.6.2"
  }
 },
 "nbformat": 4,
 "nbformat_minor": 2
}
